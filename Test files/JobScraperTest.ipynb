{
 "cells": [
  {
   "cell_type": "code",
   "execution_count": 1,
   "metadata": {},
   "outputs": [],
   "source": [
    "from selenium import webdriver\n",
    "from selenium.webdriver.common.by import By\n",
    "from selenium.webdriver.support.wait import WebDriverWait\n",
    "from selenium.webdriver.support import expected_conditions as EC\n",
    "from selenium.webdriver import ActionChains\n",
    "import time\n",
    "import pandas as pd\n",
    "import matplotlib.pyplot as plot\n",
    "\n",
    "'https://www.indeed.com/jobs?q=software+engineer&l=Connecticut&vjk=d2a438c96f6e9c7e&from=gnav-util-jobsearch--indeedmobile'\n",
    "#last page url 'https://www.indeed.com/jobs?q=software+engineer&l=Connecticut&start=480&pp=gQLQAAABhIeCedIAAAAB7hgVOgC7AQQBJ2oGDgc-BgQGOajjWXbVPKtoxz6gCwrUiOulV1DE8uIWhUoN96a_OuBT8U_7MVbePCJ-LGFcdnO782Xn_FHn_kyCyXzXzUApJebFu3ZPLcBJ7fR3OAKkzXXF7yin61pkBkXh0NtyPYQkbIV6AQywYLj9_Svtj_2y5YhVU1Ak0d7D0YfDB32euOSKGPhbdg1WLeCKNO8mN10bZM35cPeLX_vBSufZLhQmk3ygIaMFnrjAdYemIt0iIAAA&vjk=58cab7537268f79a'\n",
    "intialLink = 'https://www.indeed.com/jobs?q=software+engineer&l=Connecticut&vjk=d2a438c96f6e9c7e&from=gnav-util-jobsearch--indeedmobile'"
   ]
  },
  {
   "cell_type": "code",
   "execution_count": 2,
   "metadata": {},
   "outputs": [
    {
     "name": "stderr",
     "output_type": "stream",
     "text": [
      "C:\\Users\\Peter\\AppData\\Local\\Temp\\ipykernel_20764\\1198752679.py:1: DeprecationWarning: executable_path has been deprecated, please pass in a Service object\n",
      "  driver = webdriver.Chrome(executable_path='C:\\\\Users\\\\Peter\\\\OneDrive - Eastern Connecticut State University\\\\senior resarch\\\\Scraper\\\\chromedriver.exe')\n"
     ]
    }
   ],
   "source": [
    "driver = webdriver.Chrome(executable_path='C:\\\\Users\\\\Peter\\\\OneDrive - Eastern Connecticut State University\\\\senior resarch\\\\Scraper\\\\chromedriver.exe')\n",
    "# codingLanguages = [\n",
    "#     'Python',\n",
    "#     'Javascript',\n",
    "#     'Java',\n",
    "#     'C/C++',\n",
    "#     'C#',\n",
    "#     'SQL',\n",
    "#     'PHP',\n",
    "#     'Matlab',\n",
    "#     'Swift',\n",
    "#     'Kotlin',\n",
    "#     'Assembly',\n",
    "# ]\n",
    "#initializing langaugeCount so that the length is known\n",
    "#langaugeCount'] = [0,0,0,0,0,0,0,0,0,0,0]\n",
    "driver.get(intialLink)\n",
    "#checking if the last page element is there\n",
    "#lastPageElement = driver.find_elements(By.CSS_SELECTOR,\".css-jbuxu0 > div:last-child > a[aria-label=\\\"Next Page\\\"]\")\n",
    "jobPannels = driver.find_elements(By.CSS_SELECTOR,\".jobsearch-ResultsList > li\")"
   ]
  },
  {
   "cell_type": "code",
   "execution_count": 3,
   "metadata": {},
   "outputs": [
    {
     "ename": "ElementNotInteractableException",
     "evalue": "Message: element not interactable\n  (Session info: chrome=107.0.5304.122)\nStacktrace:\nBacktrace:\n\tOrdinal0 [0x00CE1ED3+2236115]\n\tOrdinal0 [0x00C792F1+1807089]\n\tOrdinal0 [0x00B865C0+812480]\n\tOrdinal0 [0x00BB6586+1009030]\n\tOrdinal0 [0x00BAC416+967702]\n\tOrdinal0 [0x00BD1A8C+1120908]\n\tOrdinal0 [0x00BABD84+966020]\n\tOrdinal0 [0x00BD1CA4+1121444]\n\tOrdinal0 [0x00BE59E2+1202658]\n\tOrdinal0 [0x00BD18A6+1120422]\n\tOrdinal0 [0x00BAA73D+960317]\n\tOrdinal0 [0x00BAB71F+964383]\n\tGetHandleVerifier [0x00F8E7E2+2743074]\n\tGetHandleVerifier [0x00F808D4+2685972]\n\tGetHandleVerifier [0x00D72BAA+532202]\n\tGetHandleVerifier [0x00D71990+527568]\n\tOrdinal0 [0x00C8080C+1837068]\n\tOrdinal0 [0x00C84CD8+1854680]\n\tOrdinal0 [0x00C84DC5+1854917]\n\tOrdinal0 [0x00C8ED64+1895780]\n\tBaseThreadInitThunk [0x75C5FEF9+25]\n\tRtlGetAppContainerNamedObjectPath [0x778A7BBE+286]\n\tRtlGetAppContainerNamedObjectPath [0x778A7B8E+238]\n",
     "output_type": "error",
     "traceback": [
      "\u001b[1;31m---------------------------------------------------------------------------\u001b[0m",
      "\u001b[1;31mElementNotInteractableException\u001b[0m           Traceback (most recent call last)",
      "Cell \u001b[1;32mIn [3], line 7\u001b[0m\n\u001b[0;32m      5\u001b[0m time\u001b[39m.\u001b[39msleep(\u001b[39m1\u001b[39m)\n\u001b[0;32m      6\u001b[0m \u001b[39m#print(job.text)\u001b[39;00m\n\u001b[1;32m----> 7\u001b[0m job\u001b[39m.\u001b[39;49mclick()\n\u001b[0;32m      8\u001b[0m time\u001b[39m.\u001b[39msleep(\u001b[39m3\u001b[39m)\n",
      "File \u001b[1;32mc:\\Users\\Peter\\anaconda3\\lib\\site-packages\\selenium\\webdriver\\remote\\webelement.py:93\u001b[0m, in \u001b[0;36mWebElement.click\u001b[1;34m(self)\u001b[0m\n\u001b[0;32m     91\u001b[0m \u001b[39mdef\u001b[39;00m \u001b[39mclick\u001b[39m(\u001b[39mself\u001b[39m) \u001b[39m-\u001b[39m\u001b[39m>\u001b[39m \u001b[39mNone\u001b[39;00m:\n\u001b[0;32m     92\u001b[0m     \u001b[39m\"\"\"Clicks the element.\"\"\"\u001b[39;00m\n\u001b[1;32m---> 93\u001b[0m     \u001b[39mself\u001b[39;49m\u001b[39m.\u001b[39;49m_execute(Command\u001b[39m.\u001b[39;49mCLICK_ELEMENT)\n",
      "File \u001b[1;32mc:\\Users\\Peter\\anaconda3\\lib\\site-packages\\selenium\\webdriver\\remote\\webelement.py:410\u001b[0m, in \u001b[0;36mWebElement._execute\u001b[1;34m(self, command, params)\u001b[0m\n\u001b[0;32m    408\u001b[0m     params \u001b[39m=\u001b[39m {}\n\u001b[0;32m    409\u001b[0m params[\u001b[39m\"\u001b[39m\u001b[39mid\u001b[39m\u001b[39m\"\u001b[39m] \u001b[39m=\u001b[39m \u001b[39mself\u001b[39m\u001b[39m.\u001b[39m_id\n\u001b[1;32m--> 410\u001b[0m \u001b[39mreturn\u001b[39;00m \u001b[39mself\u001b[39;49m\u001b[39m.\u001b[39;49m_parent\u001b[39m.\u001b[39;49mexecute(command, params)\n",
      "File \u001b[1;32mc:\\Users\\Peter\\anaconda3\\lib\\site-packages\\selenium\\webdriver\\remote\\webdriver.py:444\u001b[0m, in \u001b[0;36mWebDriver.execute\u001b[1;34m(self, driver_command, params)\u001b[0m\n\u001b[0;32m    442\u001b[0m response \u001b[39m=\u001b[39m \u001b[39mself\u001b[39m\u001b[39m.\u001b[39mcommand_executor\u001b[39m.\u001b[39mexecute(driver_command, params)\n\u001b[0;32m    443\u001b[0m \u001b[39mif\u001b[39;00m response:\n\u001b[1;32m--> 444\u001b[0m     \u001b[39mself\u001b[39;49m\u001b[39m.\u001b[39;49merror_handler\u001b[39m.\u001b[39;49mcheck_response(response)\n\u001b[0;32m    445\u001b[0m     response[\u001b[39m\"\u001b[39m\u001b[39mvalue\u001b[39m\u001b[39m\"\u001b[39m] \u001b[39m=\u001b[39m \u001b[39mself\u001b[39m\u001b[39m.\u001b[39m_unwrap_value(response\u001b[39m.\u001b[39mget(\u001b[39m\"\u001b[39m\u001b[39mvalue\u001b[39m\u001b[39m\"\u001b[39m, \u001b[39mNone\u001b[39;00m))\n\u001b[0;32m    446\u001b[0m     \u001b[39mreturn\u001b[39;00m response\n",
      "File \u001b[1;32mc:\\Users\\Peter\\anaconda3\\lib\\site-packages\\selenium\\webdriver\\remote\\errorhandler.py:249\u001b[0m, in \u001b[0;36mErrorHandler.check_response\u001b[1;34m(self, response)\u001b[0m\n\u001b[0;32m    247\u001b[0m         alert_text \u001b[39m=\u001b[39m value[\u001b[39m\"\u001b[39m\u001b[39malert\u001b[39m\u001b[39m\"\u001b[39m]\u001b[39m.\u001b[39mget(\u001b[39m\"\u001b[39m\u001b[39mtext\u001b[39m\u001b[39m\"\u001b[39m)\n\u001b[0;32m    248\u001b[0m     \u001b[39mraise\u001b[39;00m exception_class(message, screen, stacktrace, alert_text)  \u001b[39m# type: ignore[call-arg]  # mypy is not smart enough here\u001b[39;00m\n\u001b[1;32m--> 249\u001b[0m \u001b[39mraise\u001b[39;00m exception_class(message, screen, stacktrace)\n",
      "\u001b[1;31mElementNotInteractableException\u001b[0m: Message: element not interactable\n  (Session info: chrome=107.0.5304.122)\nStacktrace:\nBacktrace:\n\tOrdinal0 [0x00CE1ED3+2236115]\n\tOrdinal0 [0x00C792F1+1807089]\n\tOrdinal0 [0x00B865C0+812480]\n\tOrdinal0 [0x00BB6586+1009030]\n\tOrdinal0 [0x00BAC416+967702]\n\tOrdinal0 [0x00BD1A8C+1120908]\n\tOrdinal0 [0x00BABD84+966020]\n\tOrdinal0 [0x00BD1CA4+1121444]\n\tOrdinal0 [0x00BE59E2+1202658]\n\tOrdinal0 [0x00BD18A6+1120422]\n\tOrdinal0 [0x00BAA73D+960317]\n\tOrdinal0 [0x00BAB71F+964383]\n\tGetHandleVerifier [0x00F8E7E2+2743074]\n\tGetHandleVerifier [0x00F808D4+2685972]\n\tGetHandleVerifier [0x00D72BAA+532202]\n\tGetHandleVerifier [0x00D71990+527568]\n\tOrdinal0 [0x00C8080C+1837068]\n\tOrdinal0 [0x00C84CD8+1854680]\n\tOrdinal0 [0x00C84DC5+1854917]\n\tOrdinal0 [0x00C8ED64+1895780]\n\tBaseThreadInitThunk [0x75C5FEF9+25]\n\tRtlGetAppContainerNamedObjectPath [0x778A7BBE+286]\n\tRtlGetAppContainerNamedObjectPath [0x778A7B8E+238]\n"
     ]
    }
   ],
   "source": [
    "for job in jobPannels:\n",
    "    if(len(job.find_elements(By.CSS_SELECTOR,\"#mosaic-afterFifthJobResult\")) == 0 and \n",
    "       len(job.find_elements(By.CSS_SELECTOR,\"#mosaic-afterTenthJobResult\")) == 0 and\n",
    "       len(job.find_elements(By.CSS_SELECTOR,\"#mosaic-afterFifteenthJobResult\")) == 0):\n",
    "        time.sleep(1)\n",
    "        ActionChains(driver).move_to_element(job).perform()\n",
    "        time.sleep(1)\n",
    "        #print(job.text)\n",
    "        job.click()\n",
    "        time.sleep(3)\n",
    "        #jobDescription = findJobDescription(driver)\n",
    "        #find_Languages(jobDescription)"
   ]
  },
  {
   "cell_type": "code",
   "execution_count": null,
   "metadata": {},
   "outputs": [],
   "source": [
    "for i in range(9, len(jobPannels)):\n",
    "    print(jobPannels[i].tag_name)\n",
    "    ActionChains(driver).move_to_element(jobPannels[i]).perform()\n",
    "    #wait = WebDriverWait(driver, 15)\n",
    "    #wait.until(EC.element_to_be_clickable(jobPannels[i]))\n",
    "    #wait.until(EC.visibilityOfElementLocated(jobPannels[i]))\n",
    "    time.sleep(1)\n",
    "    jobPannels[i].click()"
   ]
  }
 ],
 "metadata": {
  "kernelspec": {
   "display_name": "Python 3.9.15 ('base')",
   "language": "python",
   "name": "python3"
  },
  "language_info": {
   "codemirror_mode": {
    "name": "ipython",
    "version": 3
   },
   "file_extension": ".py",
   "mimetype": "text/x-python",
   "name": "python",
   "nbconvert_exporter": "python",
   "pygments_lexer": "ipython3",
   "version": "3.9.15"
  },
  "orig_nbformat": 4,
  "vscode": {
   "interpreter": {
    "hash": "3edaea292c0121a4edf57fb9b1fd8f07f262e12aa8a67f7e3de01891f262632f"
   }
  }
 },
 "nbformat": 4,
 "nbformat_minor": 2
}
