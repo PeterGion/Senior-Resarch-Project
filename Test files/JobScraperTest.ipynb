{
 "cells": [
  {
   "cell_type": "code",
   "execution_count": 4,
   "metadata": {},
   "outputs": [],
   "source": [
    "from selenium import webdriver\n",
    "from selenium.webdriver.common.by import By\n",
    "from selenium.webdriver.support.wait import WebDriverWait\n",
    "from selenium.webdriver.support import expected_conditions as EC\n",
    "from selenium.webdriver import ActionChains\n",
    "import time\n",
    "import pandas as pd\n",
    "import matplotlib.pyplot as plot\n"
   ]
  },
  {
   "cell_type": "code",
   "execution_count": 2,
   "metadata": {},
   "outputs": [],
   "source": [
    "\n",
    "'https://www.indeed.com/jobs?q=software+engineer&l=Connecticut&vjk=d2a438c96f6e9c7e&from=gnav-util-jobsearch--indeedmobile'\n",
    "#last page url 'https://www.indeed.com/jobs?q=software+engineer&l=Connecticut&start=480&pp=gQLQAAABhIeCedIAAAAB7hgVOgC7AQQBJ2oGDgc-BgQGOajjWXbVPKtoxz6gCwrUiOulV1DE8uIWhUoN96a_OuBT8U_7MVbePCJ-LGFcdnO782Xn_FHn_kyCyXzXzUApJebFu3ZPLcBJ7fR3OAKkzXXF7yin61pkBkXh0NtyPYQkbIV6AQywYLj9_Svtj_2y5YhVU1Ak0d7D0YfDB32euOSKGPhbdg1WLeCKNO8mN10bZM35cPeLX_vBSufZLhQmk3ygIaMFnrjAdYemIt0iIAAA&vjk=58cab7537268f79a'\n",
    "intialLink = 'https://www.indeed.com/jobs?q=software+engineer&l=Connecticut&vjk=d2a438c96f6e9c7e&from=gnav-util-jobsearch--indeedmobile'"
   ]
  },
  {
   "cell_type": "code",
   "execution_count": 15,
   "metadata": {},
   "outputs": [
    {
     "name": "stderr",
     "output_type": "stream",
     "text": [
      "C:\\Users\\Peter\\AppData\\Local\\Temp\\ipykernel_5548\\244747648.py:1: DeprecationWarning: executable_path has been deprecated, please pass in a Service object\n",
      "  driver = webdriver.Chrome(executable_path='C:\\\\Users\\\\Peter\\\\OneDrive - Eastern Connecticut State University\\\\senior resarch\\\\Scraper\\\\chromedriver.exe')\n"
     ]
    }
   ],
   "source": [
    "driver = webdriver.Chrome(executable_path='C:\\\\Users\\\\Peter\\\\OneDrive - Eastern Connecticut State University\\\\senior resarch\\\\Scraper\\\\chromedriver.exe')\n",
    "codingLanguages = [\n",
    "    'Python',\n",
    "    'Javascript',\n",
    "    'Java',\n",
    "    'C/C++',\n",
    "    'C#',\n",
    "    'SQL',\n",
    "    'PHP',\n",
    "    'Matlab',\n",
    "    'Swift',\n",
    "    'Kotlin',\n",
    "    'Assembly',\n",
    "]\n",
    "#initializing langaugeCount so that the length is known\n",
    "#langaugeCount'] = [0,0,0,0,0,0,0,0,0,0,0]\n",
    "driver.get(intialLink)\n",
    "#checking if the last page element is there\n",
    "#lastPageElement = driver.find_elements(By.CSS_SELECTOR,\".css-jbuxu0 > div:last-child > a[aria-label=\\\"Next Page\\\"]\")\n",
    "jobPannels = driver.find_elements(By.CLASS_NAME,\"jobsearch-ResultsList > li\")\n"
   ]
  },
  {
   "cell_type": "code",
   "execution_count": 10,
   "metadata": {},
   "outputs": [
    {
     "ename": "NoSuchWindowException",
     "evalue": "Message: no such window: target window already closed\nfrom unknown error: web view not found\n  (Session info: chrome=108.0.5359.95)\nStacktrace:\nBacktrace:\n\t(No symbol) [0x007DF243]\n\t(No symbol) [0x00767FD1]\n\t(No symbol) [0x0065D04D]\n\t(No symbol) [0x00642D7A]\n\t(No symbol) [0x006ABE7B]\n\t(No symbol) [0x006BC196]\n\t(No symbol) [0x006A8386]\n\t(No symbol) [0x0068163C]\n\t(No symbol) [0x0068269D]\n\tGetHandleVerifier [0x00A79A22+2655074]\n\tGetHandleVerifier [0x00A6CA24+2601828]\n\tGetHandleVerifier [0x00888C0A+619850]\n\tGetHandleVerifier [0x00887830+614768]\n\t(No symbol) [0x007705FC]\n\t(No symbol) [0x00775968]\n\t(No symbol) [0x00775A55]\n\t(No symbol) [0x0078051B]\n\tBaseThreadInitThunk [0x776CFEF9+25]\n\tRtlGetAppContainerNamedObjectPath [0x77817BBE+286]\n\tRtlGetAppContainerNamedObjectPath [0x77817B8E+238]\n",
     "output_type": "error",
     "traceback": [
      "\u001b[1;31m---------------------------------------------------------------------------\u001b[0m",
      "\u001b[1;31mNoSuchWindowException\u001b[0m                     Traceback (most recent call last)",
      "\u001b[1;32mc:\\Users\\Peter\\OneDrive - Eastern Connecticut State University\\senior resarch\\Scraper\\JobScraperTest.ipynb Cell 4\u001b[0m in \u001b[0;36m<cell line: 1>\u001b[1;34m()\u001b[0m\n\u001b[1;32m----> <a href='vscode-notebook-cell:/c%3A/Users/Peter/OneDrive%20-%20Eastern%20Connecticut%20State%20University/senior%20resarch/Scraper/JobScraperTest.ipynb#W3sZmlsZQ%3D%3D?line=0'>1</a>\u001b[0m jobPannels \u001b[39m=\u001b[39m driver\u001b[39m.\u001b[39;49mfind_elements(By\u001b[39m.\u001b[39;49mCLASS_NAME,\u001b[39m\"\u001b[39;49m\u001b[39mjobsearch-ResultsList > li\u001b[39;49m\u001b[39m\"\u001b[39;49m)\n\u001b[0;32m      <a href='vscode-notebook-cell:/c%3A/Users/Peter/OneDrive%20-%20Eastern%20Connecticut%20State%20University/senior%20resarch/Scraper/JobScraperTest.ipynb#W3sZmlsZQ%3D%3D?line=1'>2</a>\u001b[0m \u001b[39mfor\u001b[39;00m i \u001b[39min\u001b[39;00m \u001b[39mrange\u001b[39m(\u001b[39m10\u001b[39m, \u001b[39mlen\u001b[39m(jobPannels)):\n\u001b[0;32m      <a href='vscode-notebook-cell:/c%3A/Users/Peter/OneDrive%20-%20Eastern%20Connecticut%20State%20University/senior%20resarch/Scraper/JobScraperTest.ipynb#W3sZmlsZQ%3D%3D?line=2'>3</a>\u001b[0m     \u001b[39mif\u001b[39;00m(\u001b[39mlen\u001b[39m(jobPannels[i]\u001b[39m.\u001b[39mfind_elements(By\u001b[39m.\u001b[39mCSS_SELECTOR,\u001b[39m\"\u001b[39m\u001b[39m#mosaic-afterTenthJobResult\u001b[39m\u001b[39m\"\u001b[39m)) \u001b[39m==\u001b[39m \u001b[39m0\u001b[39m):\n",
      "File \u001b[1;32mc:\\Users\\Peter\\anaconda3\\lib\\site-packages\\selenium\\webdriver\\remote\\webdriver.py:892\u001b[0m, in \u001b[0;36mWebDriver.find_elements\u001b[1;34m(self, by, value)\u001b[0m\n\u001b[0;32m    888\u001b[0m     value \u001b[39m=\u001b[39m \u001b[39m'\u001b[39m\u001b[39m[name=\u001b[39m\u001b[39m\"\u001b[39m\u001b[39m%s\u001b[39;00m\u001b[39m\"\u001b[39m\u001b[39m]\u001b[39m\u001b[39m'\u001b[39m \u001b[39m%\u001b[39m value\n\u001b[0;32m    890\u001b[0m \u001b[39m# Return empty list if driver returns null\u001b[39;00m\n\u001b[0;32m    891\u001b[0m \u001b[39m# See https://github.com/SeleniumHQ/selenium/issues/4555\u001b[39;00m\n\u001b[1;32m--> 892\u001b[0m \u001b[39mreturn\u001b[39;00m \u001b[39mself\u001b[39;49m\u001b[39m.\u001b[39;49mexecute(Command\u001b[39m.\u001b[39;49mFIND_ELEMENTS, {\u001b[39m\"\u001b[39;49m\u001b[39musing\u001b[39;49m\u001b[39m\"\u001b[39;49m: by, \u001b[39m\"\u001b[39;49m\u001b[39mvalue\u001b[39;49m\u001b[39m\"\u001b[39;49m: value})[\u001b[39m\"\u001b[39m\u001b[39mvalue\u001b[39m\u001b[39m\"\u001b[39m] \u001b[39mor\u001b[39;00m []\n",
      "File \u001b[1;32mc:\\Users\\Peter\\anaconda3\\lib\\site-packages\\selenium\\webdriver\\remote\\webdriver.py:444\u001b[0m, in \u001b[0;36mWebDriver.execute\u001b[1;34m(self, driver_command, params)\u001b[0m\n\u001b[0;32m    442\u001b[0m response \u001b[39m=\u001b[39m \u001b[39mself\u001b[39m\u001b[39m.\u001b[39mcommand_executor\u001b[39m.\u001b[39mexecute(driver_command, params)\n\u001b[0;32m    443\u001b[0m \u001b[39mif\u001b[39;00m response:\n\u001b[1;32m--> 444\u001b[0m     \u001b[39mself\u001b[39;49m\u001b[39m.\u001b[39;49merror_handler\u001b[39m.\u001b[39;49mcheck_response(response)\n\u001b[0;32m    445\u001b[0m     response[\u001b[39m\"\u001b[39m\u001b[39mvalue\u001b[39m\u001b[39m\"\u001b[39m] \u001b[39m=\u001b[39m \u001b[39mself\u001b[39m\u001b[39m.\u001b[39m_unwrap_value(response\u001b[39m.\u001b[39mget(\u001b[39m\"\u001b[39m\u001b[39mvalue\u001b[39m\u001b[39m\"\u001b[39m, \u001b[39mNone\u001b[39;00m))\n\u001b[0;32m    446\u001b[0m     \u001b[39mreturn\u001b[39;00m response\n",
      "File \u001b[1;32mc:\\Users\\Peter\\anaconda3\\lib\\site-packages\\selenium\\webdriver\\remote\\errorhandler.py:249\u001b[0m, in \u001b[0;36mErrorHandler.check_response\u001b[1;34m(self, response)\u001b[0m\n\u001b[0;32m    247\u001b[0m         alert_text \u001b[39m=\u001b[39m value[\u001b[39m\"\u001b[39m\u001b[39malert\u001b[39m\u001b[39m\"\u001b[39m]\u001b[39m.\u001b[39mget(\u001b[39m\"\u001b[39m\u001b[39mtext\u001b[39m\u001b[39m\"\u001b[39m)\n\u001b[0;32m    248\u001b[0m     \u001b[39mraise\u001b[39;00m exception_class(message, screen, stacktrace, alert_text)  \u001b[39m# type: ignore[call-arg]  # mypy is not smart enough here\u001b[39;00m\n\u001b[1;32m--> 249\u001b[0m \u001b[39mraise\u001b[39;00m exception_class(message, screen, stacktrace)\n",
      "\u001b[1;31mNoSuchWindowException\u001b[0m: Message: no such window: target window already closed\nfrom unknown error: web view not found\n  (Session info: chrome=108.0.5359.95)\nStacktrace:\nBacktrace:\n\t(No symbol) [0x007DF243]\n\t(No symbol) [0x00767FD1]\n\t(No symbol) [0x0065D04D]\n\t(No symbol) [0x00642D7A]\n\t(No symbol) [0x006ABE7B]\n\t(No symbol) [0x006BC196]\n\t(No symbol) [0x006A8386]\n\t(No symbol) [0x0068163C]\n\t(No symbol) [0x0068269D]\n\tGetHandleVerifier [0x00A79A22+2655074]\n\tGetHandleVerifier [0x00A6CA24+2601828]\n\tGetHandleVerifier [0x00888C0A+619850]\n\tGetHandleVerifier [0x00887830+614768]\n\t(No symbol) [0x007705FC]\n\t(No symbol) [0x00775968]\n\t(No symbol) [0x00775A55]\n\t(No symbol) [0x0078051B]\n\tBaseThreadInitThunk [0x776CFEF9+25]\n\tRtlGetAppContainerNamedObjectPath [0x77817BBE+286]\n\tRtlGetAppContainerNamedObjectPath [0x77817B8E+238]\n"
     ]
    }
   ],
   "source": [
    "\n",
    "for i in range(10, len(jobPannels)):\n",
    "    if(len(jobPannels[i].find_elements(By.CSS_SELECTOR,\"#mosaic-afterTenthJobResult\")) == 0):\n",
    "        print(jobPannels[i].tag_name)\n",
    "        #print(jobPannels[i].get_attribute)\n",
    "        ActionChains(driver).move_to_element(jobPannels[i]).perform()\n",
    "        #wait = WebDriverWait(driver, 15)\n",
    "        #wait.until(EC.element_to_be_clickable(jobPannels[i]))\n",
    "        time.sleep(1)\n",
    "        jobPannels[i].click()\n",
    "        i += 1\n",
    "        #print(jobPannels[i].click().__getattribute__)"
   ]
  },
  {
   "cell_type": "code",
   "execution_count": 16,
   "metadata": {},
   "outputs": [],
   "source": [
    "for job in jobPannels:\n",
    "    if(len(job.find_elements(By.CSS_SELECTOR,\"#mosaic-afterFifthJobResult\")) == 0 and \n",
    "    len(job.find_elements(By.CSS_SELECTOR,\"#mosaic-afterTenthJobResult\")) == 0 and\n",
    "    len(job.find_elements(By.CSS_SELECTOR,\"#mosaic-afterFifteenthJobResult\")) == 0):\n",
    "        time.sleep(1)\n",
    "        ActionChains(driver).move_to_element(job).perform()\n",
    "        time.sleep(1)\n",
    "        #print(job.text)\n",
    "        job.click()\n",
    "        time.sleep(3)\n",
    "        #jobDescription = findJobDescription(driver)\n",
    "        #find_Languages(jobDescription)"
   ]
  },
  {
   "cell_type": "code",
   "execution_count": 6,
   "metadata": {},
   "outputs": [
    {
     "name": "stdout",
     "output_type": "stream",
     "text": [
      "0 (0, 'Python')\n",
      "1 (2, 'C++')\n",
      "2 (4, 'Java')\n"
     ]
    },
    {
     "ename": "StopIteration",
     "evalue": "",
     "output_type": "error",
     "traceback": [
      "\u001b[1;31m---------------------------------------------------------------------------\u001b[0m",
      "\u001b[1;31mStopIteration\u001b[0m                             Traceback (most recent call last)",
      "\u001b[1;32mc:\\Users\\Peter\\OneDrive - Eastern Connecticut State University\\senior resarch\\Scraper\\JobScraperTest.ipynb Cell 5\u001b[0m in \u001b[0;36m<cell line: 3>\u001b[1;34m()\u001b[0m\n\u001b[0;32m      <a href='vscode-notebook-cell:/c%3A/Users/Peter/OneDrive%20-%20Eastern%20Connecticut%20State%20University/senior%20resarch/Scraper/JobScraperTest.ipynb#W3sZmlsZQ%3D%3D?line=2'>3</a>\u001b[0m \u001b[39mfor\u001b[39;00m index, elem \u001b[39min\u001b[39;00m \u001b[39menumerate\u001b[39m(enum_iter):\n\u001b[0;32m      <a href='vscode-notebook-cell:/c%3A/Users/Peter/OneDrive%20-%20Eastern%20Connecticut%20State%20University/senior%20resarch/Scraper/JobScraperTest.ipynb#W3sZmlsZQ%3D%3D?line=3'>4</a>\u001b[0m     \u001b[39m#print(jobPannels[i].tag_name)\u001b[39;00m\n\u001b[0;32m      <a href='vscode-notebook-cell:/c%3A/Users/Peter/OneDrive%20-%20Eastern%20Connecticut%20State%20University/senior%20resarch/Scraper/JobScraperTest.ipynb#W3sZmlsZQ%3D%3D?line=4'>5</a>\u001b[0m     \u001b[39m#print(jobPannels[i].get_attribute)\u001b[39;00m\n\u001b[1;32m   (...)\u001b[0m\n\u001b[0;32m      <a href='vscode-notebook-cell:/c%3A/Users/Peter/OneDrive%20-%20Eastern%20Connecticut%20State%20University/senior%20resarch/Scraper/JobScraperTest.ipynb#W3sZmlsZQ%3D%3D?line=8'>9</a>\u001b[0m     \u001b[39m#time.sleep(1)\u001b[39;00m\n\u001b[0;32m     <a href='vscode-notebook-cell:/c%3A/Users/Peter/OneDrive%20-%20Eastern%20Connecticut%20State%20University/senior%20resarch/Scraper/JobScraperTest.ipynb#W3sZmlsZQ%3D%3D?line=9'>10</a>\u001b[0m     \u001b[39m#jobPannels[i].click()\u001b[39;00m\n\u001b[0;32m     <a href='vscode-notebook-cell:/c%3A/Users/Peter/OneDrive%20-%20Eastern%20Connecticut%20State%20University/senior%20resarch/Scraper/JobScraperTest.ipynb#W3sZmlsZQ%3D%3D?line=10'>11</a>\u001b[0m     \u001b[39mprint\u001b[39m(index, elem)\n\u001b[1;32m---> <a href='vscode-notebook-cell:/c%3A/Users/Peter/OneDrive%20-%20Eastern%20Connecticut%20State%20University/senior%20resarch/Scraper/JobScraperTest.ipynb#W3sZmlsZQ%3D%3D?line=11'>12</a>\u001b[0m     index2, elem2 \u001b[39m=\u001b[39m \u001b[39mnext\u001b[39;49m(enum_iter)\n",
      "\u001b[1;31mStopIteration\u001b[0m: "
     ]
    }
   ],
   "source": [
    "languages = ['Python', 'C', 'C++', 'C#', 'Java']\n",
    "enum_iter = enumerate(languages)\n",
    "for index, elem in enumerate(enum_iter):\n",
    "    #print(jobPannels[i].tag_name)\n",
    "    #print(jobPannels[i].get_attribute)\n",
    "    #ActionChains(driver).move_to_element(jobPannels[i]).perform()\n",
    "    #wait = WebDriverWait(driver, 15)\n",
    "    #wait.until(EC.element_to_be_clickable(jobPannels[i]))\n",
    "    #time.sleep(1)\n",
    "    #jobPannels[i].click()\n",
    "    print(index, elem)\n",
    "    index2, elem2 = next(enum_iter)\n",
    "    #print(jobPannels[i].click().__getattribute__)"
   ]
  }
 ],
 "metadata": {
  "kernelspec": {
   "display_name": "Python 3.9.15 ('base')",
   "language": "python",
   "name": "python3"
  },
  "language_info": {
   "codemirror_mode": {
    "name": "ipython",
    "version": 3
   },
   "file_extension": ".py",
   "mimetype": "text/x-python",
   "name": "python",
   "nbconvert_exporter": "python",
   "pygments_lexer": "ipython3",
   "version": "3.9.13"
  },
  "orig_nbformat": 4,
  "vscode": {
   "interpreter": {
    "hash": "3edaea292c0121a4edf57fb9b1fd8f07f262e12aa8a67f7e3de01891f262632f"
   }
  }
 },
 "nbformat": 4,
 "nbformat_minor": 2
}
